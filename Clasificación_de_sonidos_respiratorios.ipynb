{
  "nbformat": 4,
  "nbformat_minor": 0,
  "metadata": {
    "colab": {
      "name": "Clasificación de sonidos respiratorios.ipynb",
      "provenance": []
    },
    "kernelspec": {
      "name": "python3",
      "display_name": "Python 3"
    }
  },
  "cells": [
    {
      "cell_type": "markdown",
      "metadata": {
        "id": "aKvPc1agVOpW"
      },
      "source": [
        "# Google Drive"
      ]
    },
    {
      "cell_type": "code",
      "metadata": {
        "id": "-hn0SMysWg97"
      },
      "source": [
        "from IPython.display import display, Javascript\n",
        "from google.colab.output import eval_js\n",
        "from base64 import b64decode\n",
        "\n",
        "def take_photo(filename='photo.jpg', quality=0.8):\n",
        "  js = Javascript('''\n",
        "    async function takePhoto(quality) {\n",
        "      const div = document.createElement('div');\n",
        "      const capture = document.createElement('button');\n",
        "      capture.textContent = 'Capture';\n",
        "      div.appendChild(capture);\n",
        "\n",
        "      const video = document.createElement('video');\n",
        "      video.style.display = 'block';\n",
        "      const stream = await navigator.mediaDevices.getUserMedia({video: true});\n",
        "\n",
        "      document.body.appendChild(div);\n",
        "      div.appendChild(video);\n",
        "      video.srcObject = stream;\n",
        "      await video.play();\n",
        "\n",
        "      // Resize the output to fit the video element.\n",
        "      google.colab.output.setIframeHeight(document.documentElement.scrollHeight, true);\n",
        "\n",
        "      // Wait for Capture to be clicked.\n",
        "      await new Promise((resolve) => capture.onclick = resolve);\n",
        "\n",
        "      const canvas = document.createElement('canvas');\n",
        "      canvas.width = video.videoWidth;\n",
        "      canvas.height = video.videoHeight;\n",
        "      canvas.getContext('2d').drawImage(video, 0, 0);\n",
        "      stream.getVideoTracks()[0].stop();\n",
        "      div.remove();\n",
        "      return canvas.toDataURL('image/jpeg', quality);\n",
        "    }\n",
        "    ''')\n",
        "  display(js)\n",
        "  data = eval_js('takePhoto({})'.format(quality))\n",
        "  binary = b64decode(data.split(',')[1])\n",
        "  with open(filename, 'wb') as f:\n",
        "    f.write(binary)\n",
        "  return filename"
      ],
      "execution_count": null,
      "outputs": []
    },
    {
      "cell_type": "code",
      "metadata": {
        "id": "rcPYEdWyWhSg",
        "colab": {
          "base_uri": "https://localhost:8080/",
          "height": 522
        },
        "outputId": "78ccd873-2f55-4856-f0e8-6460dc41bee6"
      },
      "source": [
        "# Import PyDrive and associated libraries.\n",
        "# This only needs to be done once per notebook.\n",
        "from pydrive.auth import GoogleAuth\n",
        "from pydrive.drive import GoogleDrive\n",
        "from google.colab import auth\n",
        "from oauth2client.client import GoogleCredentials\n",
        "\n",
        "# Authenticate and create the PyDrive client.\n",
        "# This only needs to be done once per notebook.\n",
        "auth.authenticate_user()\n",
        "gauth = GoogleAuth()\n",
        "gauth.credentials = GoogleCredentials.get_application_default()\n",
        "drive = GoogleDrive(gauth)"
      ],
      "execution_count": null,
      "outputs": [
        {
          "output_type": "error",
          "ename": "KeyboardInterrupt",
          "evalue": "ignored",
          "traceback": [
            "\u001b[0;31m---------------------------------------------------------------------------\u001b[0m",
            "\u001b[0;31mKeyboardInterrupt\u001b[0m                         Traceback (most recent call last)",
            "\u001b[0;32m/usr/local/lib/python3.7/dist-packages/ipykernel/kernelbase.py\u001b[0m in \u001b[0;36m_input_request\u001b[0;34m(self, prompt, ident, parent, password)\u001b[0m\n\u001b[1;32m    728\u001b[0m             \u001b[0;32mtry\u001b[0m\u001b[0;34m:\u001b[0m\u001b[0;34m\u001b[0m\u001b[0;34m\u001b[0m\u001b[0m\n\u001b[0;32m--> 729\u001b[0;31m                 \u001b[0mident\u001b[0m\u001b[0;34m,\u001b[0m \u001b[0mreply\u001b[0m \u001b[0;34m=\u001b[0m \u001b[0mself\u001b[0m\u001b[0;34m.\u001b[0m\u001b[0msession\u001b[0m\u001b[0;34m.\u001b[0m\u001b[0mrecv\u001b[0m\u001b[0;34m(\u001b[0m\u001b[0mself\u001b[0m\u001b[0;34m.\u001b[0m\u001b[0mstdin_socket\u001b[0m\u001b[0;34m,\u001b[0m \u001b[0;36m0\u001b[0m\u001b[0;34m)\u001b[0m\u001b[0;34m\u001b[0m\u001b[0;34m\u001b[0m\u001b[0m\n\u001b[0m\u001b[1;32m    730\u001b[0m             \u001b[0;32mexcept\u001b[0m \u001b[0mException\u001b[0m\u001b[0;34m:\u001b[0m\u001b[0;34m\u001b[0m\u001b[0;34m\u001b[0m\u001b[0m\n",
            "\u001b[0;32m/usr/local/lib/python3.7/dist-packages/jupyter_client/session.py\u001b[0m in \u001b[0;36mrecv\u001b[0;34m(self, socket, mode, content, copy)\u001b[0m\n\u001b[1;32m    802\u001b[0m         \u001b[0;32mtry\u001b[0m\u001b[0;34m:\u001b[0m\u001b[0;34m\u001b[0m\u001b[0;34m\u001b[0m\u001b[0m\n\u001b[0;32m--> 803\u001b[0;31m             \u001b[0mmsg_list\u001b[0m \u001b[0;34m=\u001b[0m \u001b[0msocket\u001b[0m\u001b[0;34m.\u001b[0m\u001b[0mrecv_multipart\u001b[0m\u001b[0;34m(\u001b[0m\u001b[0mmode\u001b[0m\u001b[0;34m,\u001b[0m \u001b[0mcopy\u001b[0m\u001b[0;34m=\u001b[0m\u001b[0mcopy\u001b[0m\u001b[0;34m)\u001b[0m\u001b[0;34m\u001b[0m\u001b[0;34m\u001b[0m\u001b[0m\n\u001b[0m\u001b[1;32m    804\u001b[0m         \u001b[0;32mexcept\u001b[0m \u001b[0mzmq\u001b[0m\u001b[0;34m.\u001b[0m\u001b[0mZMQError\u001b[0m \u001b[0;32mas\u001b[0m \u001b[0me\u001b[0m\u001b[0;34m:\u001b[0m\u001b[0;34m\u001b[0m\u001b[0;34m\u001b[0m\u001b[0m\n",
            "\u001b[0;32m/usr/local/lib/python3.7/dist-packages/zmq/sugar/socket.py\u001b[0m in \u001b[0;36mrecv_multipart\u001b[0;34m(self, flags, copy, track)\u001b[0m\n\u001b[1;32m    582\u001b[0m         \"\"\"\n\u001b[0;32m--> 583\u001b[0;31m         \u001b[0mparts\u001b[0m \u001b[0;34m=\u001b[0m \u001b[0;34m[\u001b[0m\u001b[0mself\u001b[0m\u001b[0;34m.\u001b[0m\u001b[0mrecv\u001b[0m\u001b[0;34m(\u001b[0m\u001b[0mflags\u001b[0m\u001b[0;34m,\u001b[0m \u001b[0mcopy\u001b[0m\u001b[0;34m=\u001b[0m\u001b[0mcopy\u001b[0m\u001b[0;34m,\u001b[0m \u001b[0mtrack\u001b[0m\u001b[0;34m=\u001b[0m\u001b[0mtrack\u001b[0m\u001b[0;34m)\u001b[0m\u001b[0;34m]\u001b[0m\u001b[0;34m\u001b[0m\u001b[0;34m\u001b[0m\u001b[0m\n\u001b[0m\u001b[1;32m    584\u001b[0m         \u001b[0;31m# have first part already, only loop while more to receive\u001b[0m\u001b[0;34m\u001b[0m\u001b[0;34m\u001b[0m\u001b[0;34m\u001b[0m\u001b[0m\n",
            "\u001b[0;32mzmq/backend/cython/socket.pyx\u001b[0m in \u001b[0;36mzmq.backend.cython.socket.Socket.recv\u001b[0;34m()\u001b[0m\n",
            "\u001b[0;32mzmq/backend/cython/socket.pyx\u001b[0m in \u001b[0;36mzmq.backend.cython.socket.Socket.recv\u001b[0;34m()\u001b[0m\n",
            "\u001b[0;32mzmq/backend/cython/socket.pyx\u001b[0m in \u001b[0;36mzmq.backend.cython.socket._recv_copy\u001b[0;34m()\u001b[0m\n",
            "\u001b[0;32m/usr/local/lib/python3.7/dist-packages/zmq/backend/cython/checkrc.pxd\u001b[0m in \u001b[0;36mzmq.backend.cython.checkrc._check_rc\u001b[0;34m()\u001b[0m\n",
            "\u001b[0;31mKeyboardInterrupt\u001b[0m: ",
            "\nDuring handling of the above exception, another exception occurred:\n",
            "\u001b[0;31mKeyboardInterrupt\u001b[0m                         Traceback (most recent call last)",
            "\u001b[0;32m<ipython-input-15-bf0d875bcea4>\u001b[0m in \u001b[0;36m<module>\u001b[0;34m()\u001b[0m\n\u001b[1;32m      8\u001b[0m \u001b[0;31m# Authenticate and create the PyDrive client.\u001b[0m\u001b[0;34m\u001b[0m\u001b[0;34m\u001b[0m\u001b[0;34m\u001b[0m\u001b[0m\n\u001b[1;32m      9\u001b[0m \u001b[0;31m# This only needs to be done once per notebook.\u001b[0m\u001b[0;34m\u001b[0m\u001b[0;34m\u001b[0m\u001b[0;34m\u001b[0m\u001b[0m\n\u001b[0;32m---> 10\u001b[0;31m \u001b[0mauth\u001b[0m\u001b[0;34m.\u001b[0m\u001b[0mauthenticate_user\u001b[0m\u001b[0;34m(\u001b[0m\u001b[0;34m)\u001b[0m\u001b[0;34m\u001b[0m\u001b[0;34m\u001b[0m\u001b[0m\n\u001b[0m\u001b[1;32m     11\u001b[0m \u001b[0mgauth\u001b[0m \u001b[0;34m=\u001b[0m \u001b[0mGoogleAuth\u001b[0m\u001b[0;34m(\u001b[0m\u001b[0;34m)\u001b[0m\u001b[0;34m\u001b[0m\u001b[0;34m\u001b[0m\u001b[0m\n\u001b[1;32m     12\u001b[0m \u001b[0mgauth\u001b[0m\u001b[0;34m.\u001b[0m\u001b[0mcredentials\u001b[0m \u001b[0;34m=\u001b[0m \u001b[0mGoogleCredentials\u001b[0m\u001b[0;34m.\u001b[0m\u001b[0mget_application_default\u001b[0m\u001b[0;34m(\u001b[0m\u001b[0;34m)\u001b[0m\u001b[0;34m\u001b[0m\u001b[0;34m\u001b[0m\u001b[0m\n",
            "\u001b[0;32m/usr/local/lib/python3.7/dist-packages/google/colab/auth.py\u001b[0m in \u001b[0;36mauthenticate_user\u001b[0;34m(clear_output)\u001b[0m\n\u001b[1;32m    149\u001b[0m     \u001b[0mcontext_manager\u001b[0m \u001b[0;34m=\u001b[0m \u001b[0m_output\u001b[0m\u001b[0;34m.\u001b[0m\u001b[0mtemporary\u001b[0m \u001b[0;32mif\u001b[0m \u001b[0mclear_output\u001b[0m \u001b[0;32melse\u001b[0m \u001b[0m_noop\u001b[0m\u001b[0;34m\u001b[0m\u001b[0;34m\u001b[0m\u001b[0m\n\u001b[1;32m    150\u001b[0m     \u001b[0;32mwith\u001b[0m \u001b[0mcontext_manager\u001b[0m\u001b[0;34m(\u001b[0m\u001b[0;34m)\u001b[0m\u001b[0;34m:\u001b[0m\u001b[0;34m\u001b[0m\u001b[0;34m\u001b[0m\u001b[0m\n\u001b[0;32m--> 151\u001b[0;31m       \u001b[0m_gcloud_login\u001b[0m\u001b[0;34m(\u001b[0m\u001b[0;34m)\u001b[0m\u001b[0;34m\u001b[0m\u001b[0;34m\u001b[0m\u001b[0m\n\u001b[0m\u001b[1;32m    152\u001b[0m     \u001b[0m_install_adc\u001b[0m\u001b[0;34m(\u001b[0m\u001b[0;34m)\u001b[0m\u001b[0;34m\u001b[0m\u001b[0;34m\u001b[0m\u001b[0m\n\u001b[1;32m    153\u001b[0m     \u001b[0mcolab_tpu_addr\u001b[0m \u001b[0;34m=\u001b[0m \u001b[0m_os\u001b[0m\u001b[0;34m.\u001b[0m\u001b[0menviron\u001b[0m\u001b[0;34m.\u001b[0m\u001b[0mget\u001b[0m\u001b[0;34m(\u001b[0m\u001b[0;34m'COLAB_TPU_ADDR'\u001b[0m\u001b[0;34m,\u001b[0m \u001b[0;34m''\u001b[0m\u001b[0;34m)\u001b[0m\u001b[0;34m\u001b[0m\u001b[0;34m\u001b[0m\u001b[0m\n",
            "\u001b[0;32m/usr/local/lib/python3.7/dist-packages/google/colab/auth.py\u001b[0m in \u001b[0;36m_gcloud_login\u001b[0;34m()\u001b[0m\n\u001b[1;32m     93\u001b[0m     \u001b[0;31m# https://github.com/jupyter/notebook/issues/3159\u001b[0m\u001b[0;34m\u001b[0m\u001b[0;34m\u001b[0m\u001b[0;34m\u001b[0m\u001b[0m\n\u001b[1;32m     94\u001b[0m     \u001b[0mprompt\u001b[0m \u001b[0;34m=\u001b[0m \u001b[0mprompt\u001b[0m\u001b[0;34m.\u001b[0m\u001b[0mrstrip\u001b[0m\u001b[0;34m(\u001b[0m\u001b[0;34m)\u001b[0m\u001b[0;34m\u001b[0m\u001b[0;34m\u001b[0m\u001b[0m\n\u001b[0;32m---> 95\u001b[0;31m     \u001b[0mcode\u001b[0m \u001b[0;34m=\u001b[0m \u001b[0mget_code\u001b[0m\u001b[0;34m(\u001b[0m\u001b[0mprompt\u001b[0m \u001b[0;34m+\u001b[0m \u001b[0;34m' '\u001b[0m\u001b[0;34m)\u001b[0m\u001b[0;34m\u001b[0m\u001b[0;34m\u001b[0m\u001b[0m\n\u001b[0m\u001b[1;32m     96\u001b[0m     \u001b[0mgcloud_process\u001b[0m\u001b[0;34m.\u001b[0m\u001b[0mcommunicate\u001b[0m\u001b[0;34m(\u001b[0m\u001b[0mcode\u001b[0m\u001b[0;34m.\u001b[0m\u001b[0mstrip\u001b[0m\u001b[0;34m(\u001b[0m\u001b[0;34m)\u001b[0m\u001b[0;34m)\u001b[0m\u001b[0;34m\u001b[0m\u001b[0;34m\u001b[0m\u001b[0m\n\u001b[1;32m     97\u001b[0m   \u001b[0;32mfinally\u001b[0m\u001b[0;34m:\u001b[0m\u001b[0;34m\u001b[0m\u001b[0;34m\u001b[0m\u001b[0m\n",
            "\u001b[0;32m/usr/local/lib/python3.7/dist-packages/ipykernel/kernelbase.py\u001b[0m in \u001b[0;36mraw_input\u001b[0;34m(self, prompt)\u001b[0m\n\u001b[1;32m    702\u001b[0m             \u001b[0mself\u001b[0m\u001b[0;34m.\u001b[0m\u001b[0m_parent_ident\u001b[0m\u001b[0;34m,\u001b[0m\u001b[0;34m\u001b[0m\u001b[0;34m\u001b[0m\u001b[0m\n\u001b[1;32m    703\u001b[0m             \u001b[0mself\u001b[0m\u001b[0;34m.\u001b[0m\u001b[0m_parent_header\u001b[0m\u001b[0;34m,\u001b[0m\u001b[0;34m\u001b[0m\u001b[0;34m\u001b[0m\u001b[0m\n\u001b[0;32m--> 704\u001b[0;31m             \u001b[0mpassword\u001b[0m\u001b[0;34m=\u001b[0m\u001b[0;32mFalse\u001b[0m\u001b[0;34m,\u001b[0m\u001b[0;34m\u001b[0m\u001b[0;34m\u001b[0m\u001b[0m\n\u001b[0m\u001b[1;32m    705\u001b[0m         )\n\u001b[1;32m    706\u001b[0m \u001b[0;34m\u001b[0m\u001b[0m\n",
            "\u001b[0;32m/usr/local/lib/python3.7/dist-packages/ipykernel/kernelbase.py\u001b[0m in \u001b[0;36m_input_request\u001b[0;34m(self, prompt, ident, parent, password)\u001b[0m\n\u001b[1;32m    732\u001b[0m             \u001b[0;32mexcept\u001b[0m \u001b[0mKeyboardInterrupt\u001b[0m\u001b[0;34m:\u001b[0m\u001b[0;34m\u001b[0m\u001b[0;34m\u001b[0m\u001b[0m\n\u001b[1;32m    733\u001b[0m                 \u001b[0;31m# re-raise KeyboardInterrupt, to truncate traceback\u001b[0m\u001b[0;34m\u001b[0m\u001b[0;34m\u001b[0m\u001b[0;34m\u001b[0m\u001b[0m\n\u001b[0;32m--> 734\u001b[0;31m                 \u001b[0;32mraise\u001b[0m \u001b[0mKeyboardInterrupt\u001b[0m\u001b[0;34m\u001b[0m\u001b[0;34m\u001b[0m\u001b[0m\n\u001b[0m\u001b[1;32m    735\u001b[0m             \u001b[0;32melse\u001b[0m\u001b[0;34m:\u001b[0m\u001b[0;34m\u001b[0m\u001b[0;34m\u001b[0m\u001b[0m\n\u001b[1;32m    736\u001b[0m                 \u001b[0;32mbreak\u001b[0m\u001b[0;34m\u001b[0m\u001b[0;34m\u001b[0m\u001b[0m\n",
            "\u001b[0;31mKeyboardInterrupt\u001b[0m: "
          ]
        }
      ]
    },
    {
      "cell_type": "code",
      "metadata": {
        "id": "y0SBQMPOWg-A",
        "colab": {
          "base_uri": "https://localhost:8080/"
        },
        "outputId": "e3ad8182-7b4d-4d4b-acd4-2074cc11d163"
      },
      "source": [
        "from IPython.display import Image\n",
        "try:\n",
        "  filename = take_photo()\n",
        "  print('Saved to {}'.format(filename))\n",
        "  \n",
        "  # Show the image which was just taken.\n",
        "  display(Image(filename))\n",
        "except Exception as err:\n",
        "  # Errors will be thrown if the user does not have a webcam or if they do not\n",
        "  # grant the page permission to access it.\n",
        "  print(str(err))"
      ],
      "execution_count": null,
      "outputs": [
        {
          "output_type": "stream",
          "text": [
            "name 'take_photo' is not defined\n"
          ],
          "name": "stdout"
        }
      ]
    },
    {
      "cell_type": "markdown",
      "metadata": {
        "id": "QqPVqH-N9hSP"
      },
      "source": [
        "# Importar librerias"
      ]
    },
    {
      "cell_type": "code",
      "metadata": {
        "colab": {
          "base_uri": "https://localhost:8080/"
        },
        "id": "ASBLV5gk6sH0",
        "outputId": "4dc8e843-fc2f-4827-af22-7f4c5fa861a1"
      },
      "source": [
        "!python"
      ],
      "execution_count": null,
      "outputs": [
        {
          "output_type": "stream",
          "text": [
            "Python 3.7.10 (default, Feb 20 2021, 21:17:23) \n",
            "[GCC 7.5.0] on linux\n",
            "Type \"help\", \"copyright\", \"credits\" or \"license\" for more information.\n",
            ">>> \n",
            "KeyboardInterrupt\n",
            ">>> \n",
            "KeyboardInterrupt\n",
            ">>> ^C\n"
          ],
          "name": "stdout"
        }
      ]
    },
    {
      "cell_type": "code",
      "metadata": {
        "id": "uU3DNf2-7zJ_"
      },
      "source": [
        "from os import listdir, getcwd\r\n",
        "from os.path import isfile, join\r\n",
        "\r\n",
        "import librosa\r\n",
        "import matplotlib.pyplot as plt\r\n",
        "import numpy as np\r\n",
        "import pandas as pd\r\n",
        "import seaborn as sn\r\n",
        "from sklearn import preprocessing\r\n",
        "from sklearn.metrics import classification_report, confusion_matrix\r\n",
        "from sklearn.model_selection import train_test_split\r\n",
        "from tensorflow.keras import regularizers, optimizers\r\n",
        "from tensorflow.keras.layers import Dense, Conv1D, Flatten, Activation, MaxPooling1D, Dropout\r\n",
        "from tensorflow.keras.models import Sequential, Model\r\n",
        "from tensorflow.keras.utils import plot_model,to_categorical"
      ],
      "execution_count": null,
      "outputs": []
    },
    {
      "cell_type": "markdown",
      "metadata": {
        "id": "dtRMbAhH9ocU"
      },
      "source": [
        "# Navegando el conjunto de datos"
      ]
    },
    {
      "cell_type": "code",
      "metadata": {
        "id": "LLQ9xLVu_Fxd"
      },
      "source": [
        "files_path = \"../content/drive/MyDrive/Universidad/8vo cuatrimestre/Sistemas inteligentes/Evidencias/Conjunto de datos/Respiratory_Sound_Database/Respiratory_Sound_Database/audio_and_txt_files\""
      ],
      "execution_count": null,
      "outputs": []
    },
    {
      "cell_type": "code",
      "metadata": {
        "id": "7Y_geyAg-sGv"
      },
      "source": [
        "class Diagnosis():\r\n",
        "    \"\"\"Representar un diagnostico, con la ubicación del audio y su diagnostico.\r\n",
        "\r\n",
        "    Args:\r\n",
        "        id: Identificador entero.\r\n",
        "        diagnosis: Cadena que es el diagnositco del archivo de audio.\r\n",
        "        path: Cadena concatenada que es la ruta del archivo .wav \r\n",
        "    \"\"\"\r\n",
        "\r\n",
        "    def __init__ (self, id, diagnosis, path):\r\n",
        "      self.id = id\r\n",
        "      self.diagnosis = diagnosis \r\n",
        "      self.path = path"
      ],
      "execution_count": null,
      "outputs": []
    },
    {
      "cell_type": "code",
      "metadata": {
        "id": "BktsEWq99q_2"
      },
      "source": [
        "def get_audio_files(files_path):\r\n",
        "    \"\"\"Retornar una lista de todos los archivos de audio del conjunto de datos.\r\n",
        "\r\n",
        "    Se lista el directorio de \"file_path\" y se agrega a una lista todos \r\n",
        "    aquellos que seana archivos, posteriormente, para cada archivo se verifica\r\n",
        "    si son .WAV y se agrega a una lista.\r\n",
        "\r\n",
        "    Args:\r\n",
        "      files_path: Directorio donde se encuentran los archivos del conjunto de \r\n",
        "        datos.\r\n",
        "\r\n",
        "    Returns:\r\n",
        "      sorted_files: Lista ordenada alfabeticamente de los archivos .wav.\r\n",
        "    \"\"\"\r\n",
        "    files = [f for f in listdir(files_path) if isfile(join(files_path, f))]\r\n",
        "    wav_files = [f for f in files if f.endswith('.wav')]  \r\n",
        "\r\n",
        "    sorted_files = sorted(wav_files)\r\n",
        "    return sorted_files"
      ],
      "execution_count": null,
      "outputs": []
    },
    {
      "cell_type": "code",
      "metadata": {
        "id": "IbU9GC-f_A1U"
      },
      "source": [
        "def diagnosis_data(files_path):\r\n",
        "    \"\"\"Crear lista de las instancias de la clase Diagnosis con los atributos.\r\n",
        "\r\n",
        "    Crear diccionario de los diagnosticos a partir de  'patient_diagnosis.csv',\r\n",
        "    asignarlo a cada archivo obtenido de get_audio_files() mediante una\r\n",
        "    instancia de 'Diagnosis' y retornar todas estás instancias en una lista.\r\n",
        "\r\n",
        "    Args:\r\n",
        "      files_path: Directorio donde se encuentran los archivos del conjunto de \r\n",
        "      datos.\r\n",
        "\r\n",
        "    Returns:\r\n",
        "      diagnosis_list: Lista de las instancias de la clase Diagnosis con sus \r\n",
        "      atributos\r\n",
        "    \"\"\"\r\n",
        "    diagnosis = pd.read_csv(\"../content/drive/MyDrive/Universidad/8vo cuatrimestre/Sistemas inteligentes/Evidencias/Conjunto de datos/Respiratory_Sound_Database/Respiratory_Sound_Database/patient_diagnosis.csv\")\r\n",
        "    wav_files = get_audio_files(files_path)\r\n",
        "    diag_dict = {101: \"URTI\"}  \r\n",
        "    diagnosis_list = []\r\n",
        "    \r\n",
        "    for index, row in diagnosis.iterrows():\r\n",
        "      diag_dict[row[0]] = row[1]     \r\n",
        "\r\n",
        "    id = 0\r\n",
        "    for f in wav_files:\r\n",
        "      diagnosis_list.append(Diagnosis(id, diag_dict[int(f[:3])], \r\n",
        "                                      join(files_path, f)))  \r\n",
        "      id += 1  \r\n",
        "\r\n",
        "    return diagnosis_list"
      ],
      "execution_count": null,
      "outputs": []
    },
    {
      "cell_type": "markdown",
      "metadata": {
        "id": "U-6OXcBEEcJZ"
      },
      "source": [
        "# Extracción de características"
      ]
    },
    {
      "cell_type": "code",
      "metadata": {
        "id": "aeIdIyaUEwdG"
      },
      "source": [
        "def get_audio_features(filename): \r\n",
        "    \"\"\"Extraer las características de un audio y las concatena en un arreglo.\r\n",
        "\r\n",
        "    Cargar el audio con Librosa para posteriormente calcular el valor absoluto\r\n",
        "    o el promedio de los datos númericos de la caracteristica correspondiente.\r\n",
        "\r\n",
        "    Args:\r\n",
        "      filename: La ruta relativa donde se encuentra el archivo de audio.\r\n",
        "\r\n",
        "    Returns:\r\n",
        "      features: Unión de una secuencia de arreglos de las características,\r\n",
        "    \"\"\"\r\n",
        "    sound, sample_rate = librosa.load(filename)\r\n",
        "    stft = np.abs(librosa.stft(sound))  \r\n",
        "    mfccs = np.mean(librosa.feature.mfcc(y=sound, sr=sample_rate, n_mfcc=40), axis=1)\r\n",
        "    chroma = np.mean(librosa.feature.chroma_stft(S=stft, sr=sample_rate), axis=1)\r\n",
        "    mel = np.mean(librosa.feature.melspectrogram(sound, sr=sample_rate), axis=1)\r\n",
        "    contrast = np.mean(librosa.feature.spectral_contrast(S=stft, sr=sample_rate), axis=1)\r\n",
        "    tonnetz = np.mean(librosa.feature.tonnetz(y=librosa.effects.harmonic(sound), sr=sample_rate), axis=1)\r\n",
        "    features = np.concatenate((mfccs, chroma, mel, contrast, tonnetz))\r\n",
        "    return features"
      ],
      "execution_count": null,
      "outputs": []
    },
    {
      "cell_type": "code",
      "metadata": {
        "id": "ZD4bdiXDFU6m"
      },
      "source": [
        "def data_points(files_path):\r\n",
        "    \"\"\"Generar  arreglos con el id del diagnostico y características del audio.\r\n",
        "\r\n",
        "    Crear dos ejes, uno que agregue un identificador personalizado de cada \r\n",
        "    diagnostico y uno con todas las características de cada archivo.\r\n",
        "\r\n",
        "    Args:\r\n",
        "      files_path: Directorio donde se encuentran los archivos del conjunto de \r\n",
        "      datos.\r\n",
        "\r\n",
        "    Returns:\r\n",
        "      np.array(labels): Lista de identificador de los diagnosticos de cada \r\n",
        "      archivo.\r\n",
        "      np.array(images): Lista de las características de audio de cada archivo.\r\n",
        "    \"\"\"\r\n",
        "    images = []\r\n",
        "    labels = []\r\n",
        "    to_hot_one = {\"COPD\": 0, \"Healthy\": 1, \"URTI\": 2, \"Bronchiectasis\": 3, \"Pneumonia\": 4, \"Bronchiolitis\": 5, \"Asthma\": 6, \"LRTI\": 7}\r\n",
        "    \r\n",
        "    for f in diagnosis_data(files_path):\r\n",
        "      labels.append(to_hot_one[f.diagnosis]) \r\n",
        "      images.append(get_audio_features(f.path))\r\n",
        "\r\n",
        "    return np.array(labels), np.array(images)"
      ],
      "execution_count": null,
      "outputs": []
    },
    {
      "cell_type": "markdown",
      "metadata": {
        "id": "jM13j36YJ-Vg"
      },
      "source": [
        "# Pre-procesamiento"
      ]
    },
    {
      "cell_type": "code",
      "metadata": {
        "id": "_JZy-tVAKDU8"
      },
      "source": [
        "def preprocessing(labels, images):\r\n",
        "    \"\"\"Generar y procesar los datos de entrenamiento y prueba.\r\n",
        "\r\n",
        "    Eliminar datos que tienen poca representación, dividir los restantes\r\n",
        "    en los datos de entrenamiento y prueba, crear una matriz binaria y \r\n",
        "    redimensionar arreglos.\r\n",
        "\r\n",
        "    Args:\r\n",
        "      labels: Lista de identificador de los diagnosticos de cada archivo.\r\n",
        "      images: Lista de las características de audio de cada archivo.\r\n",
        "\r\n",
        "    Returns:\r\n",
        "      x_train: Conjunto de datos de entrenamiento del eje x.\r\n",
        "      x_test: Conjunto de datos de pruebas del eje x.\r\n",
        "      y_train: Conjunto de datos de entrenamiento del eje y.\r\n",
        "      y_test: Conjunto de datos de pruebas del eje y.\r\n",
        "    \"\"\"    \r\n",
        "    images = np.delete(images, np.where((labels == 7) | (labels == 6))[0], axis=0) \r\n",
        "    labels = np.delete(labels, np.where((labels == 7) | (labels == 6))[0], axis=0)      \r\n",
        "    x_train, x_test, y_train, y_test = train_test_split(images, labels, test_size=0.2, random_state=10)\r\n",
        "\r\n",
        "    y_train = to_categorical(y_train)\r\n",
        "    y_test = to_categorical(y_test)  \r\n",
        "\r\n",
        "    y_train = np.reshape(y_train, (y_train.shape[0], 6))\r\n",
        "    x_train = np.reshape(x_train, (x_train.shape[0], x_train.shape[1], 1))\r\n",
        "    y_test = np.reshape(y_test, (y_test.shape[0], 6))\r\n",
        "    x_test = np.reshape(x_test, (x_test.shape[0], x_train.shape[1],  1))\r\n",
        "\r\n",
        "    return x_train, x_test, y_train, y_test"
      ],
      "execution_count": null,
      "outputs": []
    },
    {
      "cell_type": "code",
      "metadata": {
        "id": "UTQoO70_KRK8",
        "colab": {
          "base_uri": "https://localhost:8080/"
        },
        "outputId": "78b623f4-07e9-4b31-bb22-d1cb69ee07bb"
      },
      "source": [
        "labels, images = data_points(files_path)\r\n",
        "x_train, x_test, y_train, y_test = preprocessing(labels, images)"
      ],
      "execution_count": null,
      "outputs": [
        {
          "output_type": "stream",
          "text": [
            "/usr/local/lib/python3.7/dist-packages/librosa/core/pitch.py:153: UserWarning: Trying to estimate tuning from empty frequency set.\n",
            "  warnings.warn(\"Trying to estimate tuning from empty frequency set.\")\n",
            "/usr/local/lib/python3.7/dist-packages/librosa/core/pitch.py:153: UserWarning: Trying to estimate tuning from empty frequency set.\n",
            "  warnings.warn(\"Trying to estimate tuning from empty frequency set.\")\n"
          ],
          "name": "stderr"
        }
      ]
    },
    {
      "cell_type": "code",
      "metadata": {
        "colab": {
          "base_uri": "https://localhost:8080/"
        },
        "id": "gvP36MMfcBTd",
        "outputId": "c06b4680-e880-4aa2-efc2-c7bad0c5fc83"
      },
      "source": [
        "from google.colab import drive\n",
        "drive.mount('/content/drive')"
      ],
      "execution_count": null,
      "outputs": [
        {
          "output_type": "stream",
          "text": [
            "Mounted at /content/drive\n"
          ],
          "name": "stdout"
        }
      ]
    },
    {
      "cell_type": "markdown",
      "metadata": {
        "id": "0gO-GtBJv7Pa"
      },
      "source": [
        "# Red neuronal convolucional"
      ]
    },
    {
      "cell_type": "code",
      "metadata": {
        "id": "X93YIh3Tgnfm",
        "colab": {
          "base_uri": "https://localhost:8080/"
        },
        "outputId": "108a6115-42dc-4a67-ba09-c2ec6638fc78"
      },
      "source": [
        "model = Sequential()\r\n",
        "\r\n",
        "model.add(Conv1D(64, kernel_size=5, activation='relu', input_shape=(193, 1)))\r\n",
        "model.add(Conv1D(128, kernel_size=5, activation='relu'))\r\n",
        "model.add(MaxPooling1D(2)) \r\n",
        "model.add(Conv1D(256, kernel_size=5, activation='relu'))\r\n",
        "model.add(Dropout(0.3))\r\n",
        "model.add(Flatten())\r\n",
        "model.add(Dense(512, activation='relu'))   \r\n",
        "model.add(Dense(6, activation='softmax'))\r\n",
        "\r\n",
        "model.compile(loss='categorical_crossentropy', optimizer='adam', metrics=['accuracy'])\r\n",
        "history = model.fit(x_train, y_train, validation_data=(x_test, y_test), epochs=70, batch_size=200, verbose=1)"
      ],
      "execution_count": null,
      "outputs": [
        {
          "output_type": "stream",
          "text": [
            "Epoch 1/70\n",
            "4/4 [==============================] - 6s 1s/step - loss: 4.5457 - accuracy: 0.5807 - val_loss: 1.6897 - val_accuracy: 0.8098\n",
            "Epoch 2/70\n",
            "4/4 [==============================] - 4s 1s/step - loss: 1.8390 - accuracy: 0.6870 - val_loss: 0.9362 - val_accuracy: 0.8152\n",
            "Epoch 3/70\n",
            "4/4 [==============================] - 4s 1s/step - loss: 0.8021 - accuracy: 0.8123 - val_loss: 0.8473 - val_accuracy: 0.8370\n",
            "Epoch 4/70\n",
            "4/4 [==============================] - 4s 1s/step - loss: 0.7117 - accuracy: 0.8461 - val_loss: 0.5524 - val_accuracy: 0.8967\n",
            "Epoch 5/70\n",
            "4/4 [==============================] - 4s 1s/step - loss: 0.6074 - accuracy: 0.8578 - val_loss: 0.4624 - val_accuracy: 0.8967\n",
            "Epoch 6/70\n",
            "4/4 [==============================] - 4s 1s/step - loss: 0.5027 - accuracy: 0.8547 - val_loss: 0.4010 - val_accuracy: 0.8967\n",
            "Epoch 7/70\n",
            "4/4 [==============================] - 4s 1s/step - loss: 0.4689 - accuracy: 0.8539 - val_loss: 0.3525 - val_accuracy: 0.8967\n",
            "Epoch 8/70\n",
            "4/4 [==============================] - 4s 1s/step - loss: 0.4396 - accuracy: 0.8533 - val_loss: 0.3252 - val_accuracy: 0.8967\n",
            "Epoch 9/70\n",
            "4/4 [==============================] - 4s 1s/step - loss: 0.3967 - accuracy: 0.8616 - val_loss: 0.3017 - val_accuracy: 0.8967\n",
            "Epoch 10/70\n",
            "4/4 [==============================] - 4s 1s/step - loss: 0.3818 - accuracy: 0.8509 - val_loss: 0.2898 - val_accuracy: 0.8913\n",
            "Epoch 11/70\n",
            "4/4 [==============================] - 4s 1s/step - loss: 0.3597 - accuracy: 0.8607 - val_loss: 0.2837 - val_accuracy: 0.8913\n",
            "Epoch 12/70\n",
            "4/4 [==============================] - 4s 1s/step - loss: 0.3488 - accuracy: 0.8641 - val_loss: 0.2764 - val_accuracy: 0.8913\n",
            "Epoch 13/70\n",
            "4/4 [==============================] - 4s 1s/step - loss: 0.3245 - accuracy: 0.8845 - val_loss: 0.2502 - val_accuracy: 0.9022\n",
            "Epoch 14/70\n",
            "4/4 [==============================] - 4s 1s/step - loss: 0.3072 - accuracy: 0.8702 - val_loss: 0.2480 - val_accuracy: 0.9130\n",
            "Epoch 15/70\n",
            "4/4 [==============================] - 4s 1s/step - loss: 0.2972 - accuracy: 0.8809 - val_loss: 0.2464 - val_accuracy: 0.9076\n",
            "Epoch 16/70\n",
            "4/4 [==============================] - 4s 1s/step - loss: 0.3671 - accuracy: 0.8776 - val_loss: 0.2152 - val_accuracy: 0.9185\n",
            "Epoch 17/70\n",
            "4/4 [==============================] - 4s 1s/step - loss: 0.2827 - accuracy: 0.8906 - val_loss: 0.2204 - val_accuracy: 0.9130\n",
            "Epoch 18/70\n",
            "4/4 [==============================] - 4s 1s/step - loss: 0.2739 - accuracy: 0.8875 - val_loss: 0.2015 - val_accuracy: 0.9076\n",
            "Epoch 19/70\n",
            "4/4 [==============================] - 4s 1s/step - loss: 0.2247 - accuracy: 0.9126 - val_loss: 0.2066 - val_accuracy: 0.9293\n",
            "Epoch 20/70\n",
            "4/4 [==============================] - 4s 1s/step - loss: 0.2423 - accuracy: 0.9195 - val_loss: 0.1843 - val_accuracy: 0.9239\n",
            "Epoch 21/70\n",
            "4/4 [==============================] - 4s 1s/step - loss: 0.2165 - accuracy: 0.9225 - val_loss: 0.1901 - val_accuracy: 0.9185\n",
            "Epoch 22/70\n",
            "4/4 [==============================] - 4s 1s/step - loss: 0.2049 - accuracy: 0.9240 - val_loss: 0.1887 - val_accuracy: 0.9239\n",
            "Epoch 23/70\n",
            "4/4 [==============================] - 4s 1s/step - loss: 0.2357 - accuracy: 0.9036 - val_loss: 0.1900 - val_accuracy: 0.9185\n",
            "Epoch 24/70\n",
            "4/4 [==============================] - 4s 1s/step - loss: 0.1890 - accuracy: 0.9313 - val_loss: 0.1691 - val_accuracy: 0.9293\n",
            "Epoch 25/70\n",
            "4/4 [==============================] - 4s 1s/step - loss: 0.1728 - accuracy: 0.9340 - val_loss: 0.1791 - val_accuracy: 0.9239\n",
            "Epoch 26/70\n",
            "4/4 [==============================] - 4s 1s/step - loss: 0.1994 - accuracy: 0.9227 - val_loss: 0.1856 - val_accuracy: 0.9348\n",
            "Epoch 27/70\n",
            "4/4 [==============================] - 4s 1s/step - loss: 0.1776 - accuracy: 0.9389 - val_loss: 0.1728 - val_accuracy: 0.9402\n",
            "Epoch 28/70\n",
            "4/4 [==============================] - 4s 1s/step - loss: 0.1642 - accuracy: 0.9338 - val_loss: 0.1628 - val_accuracy: 0.9348\n",
            "Epoch 29/70\n",
            "4/4 [==============================] - 4s 1s/step - loss: 0.1444 - accuracy: 0.9491 - val_loss: 0.1909 - val_accuracy: 0.9130\n",
            "Epoch 30/70\n",
            "4/4 [==============================] - 4s 1s/step - loss: 0.1762 - accuracy: 0.9316 - val_loss: 0.1518 - val_accuracy: 0.9511\n",
            "Epoch 31/70\n",
            "4/4 [==============================] - 4s 1s/step - loss: 0.1615 - accuracy: 0.9427 - val_loss: 0.1900 - val_accuracy: 0.9130\n",
            "Epoch 32/70\n",
            "4/4 [==============================] - 4s 1s/step - loss: 0.1577 - accuracy: 0.9371 - val_loss: 0.1844 - val_accuracy: 0.9293\n",
            "Epoch 33/70\n",
            "4/4 [==============================] - 4s 1s/step - loss: 0.1423 - accuracy: 0.9548 - val_loss: 0.1654 - val_accuracy: 0.9402\n",
            "Epoch 34/70\n",
            "4/4 [==============================] - 4s 1s/step - loss: 0.1395 - accuracy: 0.9477 - val_loss: 0.1656 - val_accuracy: 0.9402\n",
            "Epoch 35/70\n",
            "4/4 [==============================] - 4s 1s/step - loss: 0.1158 - accuracy: 0.9518 - val_loss: 0.1894 - val_accuracy: 0.9130\n",
            "Epoch 36/70\n",
            "4/4 [==============================] - 5s 1s/step - loss: 0.1107 - accuracy: 0.9643 - val_loss: 0.1849 - val_accuracy: 0.9348\n",
            "Epoch 37/70\n",
            "4/4 [==============================] - 6s 2s/step - loss: 0.1245 - accuracy: 0.9553 - val_loss: 0.1610 - val_accuracy: 0.9402\n",
            "Epoch 38/70\n",
            "4/4 [==============================] - 6s 1s/step - loss: 0.1058 - accuracy: 0.9636 - val_loss: 0.1600 - val_accuracy: 0.9402\n",
            "Epoch 39/70\n",
            "4/4 [==============================] - 5s 1s/step - loss: 0.0827 - accuracy: 0.9703 - val_loss: 0.1895 - val_accuracy: 0.9348\n",
            "Epoch 40/70\n",
            "4/4 [==============================] - 4s 1s/step - loss: 0.0956 - accuracy: 0.9619 - val_loss: 0.2046 - val_accuracy: 0.9402\n",
            "Epoch 41/70\n",
            "4/4 [==============================] - 4s 1s/step - loss: 0.1059 - accuracy: 0.9575 - val_loss: 0.1646 - val_accuracy: 0.9511\n",
            "Epoch 42/70\n",
            "4/4 [==============================] - 4s 1s/step - loss: 0.0805 - accuracy: 0.9792 - val_loss: 0.1715 - val_accuracy: 0.9457\n",
            "Epoch 43/70\n",
            "4/4 [==============================] - 4s 1s/step - loss: 0.0735 - accuracy: 0.9734 - val_loss: 0.1897 - val_accuracy: 0.9402\n",
            "Epoch 44/70\n",
            "4/4 [==============================] - 4s 1s/step - loss: 0.0858 - accuracy: 0.9687 - val_loss: 0.1850 - val_accuracy: 0.9348\n",
            "Epoch 45/70\n",
            "4/4 [==============================] - 4s 1s/step - loss: 0.0762 - accuracy: 0.9729 - val_loss: 0.2072 - val_accuracy: 0.9293\n",
            "Epoch 46/70\n",
            "4/4 [==============================] - 4s 1s/step - loss: 0.0857 - accuracy: 0.9750 - val_loss: 0.1793 - val_accuracy: 0.9457\n",
            "Epoch 47/70\n",
            "4/4 [==============================] - 4s 1s/step - loss: 0.0728 - accuracy: 0.9754 - val_loss: 0.2007 - val_accuracy: 0.9293\n",
            "Epoch 48/70\n",
            "4/4 [==============================] - 4s 1s/step - loss: 0.0556 - accuracy: 0.9842 - val_loss: 0.2056 - val_accuracy: 0.9457\n",
            "Epoch 49/70\n",
            "4/4 [==============================] - 4s 1s/step - loss: 0.0729 - accuracy: 0.9736 - val_loss: 0.1954 - val_accuracy: 0.9402\n",
            "Epoch 50/70\n",
            "4/4 [==============================] - 4s 1s/step - loss: 0.0613 - accuracy: 0.9783 - val_loss: 0.2064 - val_accuracy: 0.9402\n",
            "Epoch 51/70\n",
            "4/4 [==============================] - 4s 1s/step - loss: 0.0582 - accuracy: 0.9794 - val_loss: 0.1982 - val_accuracy: 0.9511\n",
            "Epoch 52/70\n",
            "4/4 [==============================] - 4s 1s/step - loss: 0.0615 - accuracy: 0.9815 - val_loss: 0.1934 - val_accuracy: 0.9402\n",
            "Epoch 53/70\n",
            "4/4 [==============================] - 4s 1s/step - loss: 0.0610 - accuracy: 0.9714 - val_loss: 0.1860 - val_accuracy: 0.9457\n",
            "Epoch 54/70\n",
            "4/4 [==============================] - 4s 1s/step - loss: 0.0506 - accuracy: 0.9834 - val_loss: 0.2174 - val_accuracy: 0.9402\n",
            "Epoch 55/70\n",
            "4/4 [==============================] - 4s 1s/step - loss: 0.0653 - accuracy: 0.9751 - val_loss: 0.1877 - val_accuracy: 0.9402\n",
            "Epoch 56/70\n",
            "4/4 [==============================] - 4s 1s/step - loss: 0.0578 - accuracy: 0.9808 - val_loss: 0.2002 - val_accuracy: 0.9457\n",
            "Epoch 57/70\n",
            "4/4 [==============================] - 4s 1s/step - loss: 0.0506 - accuracy: 0.9876 - val_loss: 0.2297 - val_accuracy: 0.9457\n",
            "Epoch 58/70\n",
            "4/4 [==============================] - 4s 1s/step - loss: 0.0546 - accuracy: 0.9783 - val_loss: 0.2270 - val_accuracy: 0.9293\n",
            "Epoch 59/70\n",
            "4/4 [==============================] - 4s 1s/step - loss: 0.0448 - accuracy: 0.9879 - val_loss: 0.2060 - val_accuracy: 0.9457\n",
            "Epoch 60/70\n",
            "4/4 [==============================] - 4s 1s/step - loss: 0.0376 - accuracy: 0.9884 - val_loss: 0.2329 - val_accuracy: 0.9293\n",
            "Epoch 61/70\n",
            "4/4 [==============================] - 4s 1s/step - loss: 0.0474 - accuracy: 0.9845 - val_loss: 0.2180 - val_accuracy: 0.9457\n",
            "Epoch 62/70\n",
            "4/4 [==============================] - 4s 1s/step - loss: 0.0735 - accuracy: 0.9819 - val_loss: 0.2193 - val_accuracy: 0.9293\n",
            "Epoch 63/70\n",
            "4/4 [==============================] - 4s 1s/step - loss: 0.0734 - accuracy: 0.9778 - val_loss: 0.2228 - val_accuracy: 0.9293\n",
            "Epoch 64/70\n",
            "4/4 [==============================] - 4s 1s/step - loss: 0.1051 - accuracy: 0.9759 - val_loss: 0.2213 - val_accuracy: 0.9402\n",
            "Epoch 65/70\n",
            "4/4 [==============================] - 4s 1s/step - loss: 0.0588 - accuracy: 0.9829 - val_loss: 0.1977 - val_accuracy: 0.9402\n",
            "Epoch 66/70\n",
            "4/4 [==============================] - 4s 1s/step - loss: 0.0593 - accuracy: 0.9815 - val_loss: 0.2032 - val_accuracy: 0.9348\n",
            "Epoch 67/70\n",
            "4/4 [==============================] - 4s 1s/step - loss: 0.0458 - accuracy: 0.9844 - val_loss: 0.1704 - val_accuracy: 0.9511\n",
            "Epoch 68/70\n",
            "4/4 [==============================] - 4s 1s/step - loss: 0.0490 - accuracy: 0.9816 - val_loss: 0.1693 - val_accuracy: 0.9457\n",
            "Epoch 69/70\n",
            "4/4 [==============================] - 4s 1s/step - loss: 0.0430 - accuracy: 0.9818 - val_loss: 0.1744 - val_accuracy: 0.9511\n",
            "Epoch 70/70\n",
            "4/4 [==============================] - 4s 1s/step - loss: 0.0399 - accuracy: 0.9841 - val_loss: 0.1635 - val_accuracy: 0.9620\n"
          ],
          "name": "stdout"
        }
      ]
    },
    {
      "cell_type": "markdown",
      "metadata": {
        "id": "rMz5pIaHwAvr"
      },
      "source": [
        "# Evaluación"
      ]
    },
    {
      "cell_type": "code",
      "metadata": {
        "colab": {
          "base_uri": "https://localhost:8080/"
        },
        "id": "DcCOAe9FwC0L",
        "outputId": "66a7b9cf-64be-4e00-c55e-08079626e495"
      },
      "source": [
        "score = model.evaluate(x_test, y_test, batch_size=60, verbose=0)\r\n",
        "print('Accuracy: {0:.0%}'.format(score[1]/1))\r\n",
        "print(\"Loss: %.4f\\n\" % score[0])"
      ],
      "execution_count": null,
      "outputs": [
        {
          "output_type": "stream",
          "text": [
            "Accuracy: 96%\n",
            "Loss: 0.1635\n",
            "\n"
          ],
          "name": "stdout"
        }
      ]
    },
    {
      "cell_type": "code",
      "metadata": {
        "colab": {
          "base_uri": "https://localhost:8080/",
          "height": 459
        },
        "id": "cd0W4rEjwL2y",
        "outputId": "ebcd356a-c6f4-4def-804f-04b99368db26"
      },
      "source": [
        "matrix_index = [\"COPD\", \"Healthy\", \"URTI\", \"Bronchiectasis\", \"Pneumoina\", \"Bronchiolitis\"]\r\n",
        "\r\n",
        "preds = model.predict(x_test)\r\n",
        "classpreds = np.argmax(preds, axis=1) \r\n",
        "y_testclass = np.argmax(y_test, axis=1) \r\n",
        "cm = confusion_matrix(y_testclass, classpreds)\r\n",
        "cm_sum = np.sum(cm, axis=1, keepdims=True)\r\n",
        "cm_perc = cm / cm_sum.astype(float) * 100\r\n",
        "annot = np.empty_like(cm).astype(str)\r\n",
        "nrows, ncols = cm.shape\r\n",
        "\r\n",
        "for i in range(nrows):\r\n",
        "    for j in range(ncols):\r\n",
        "        c = cm[i, j]\r\n",
        "        p = cm_perc[i, j]\r\n",
        "        if i == j:\r\n",
        "            s = cm_sum[i]\r\n",
        "            annot[i, j] = '%.1f%%\\n%d/%d' % (p, c, s)\r\n",
        "        elif c == 0:\r\n",
        "            annot[i, j] = ''\r\n",
        "        else:\r\n",
        "            annot[i, j] = '%.1f%%\\n%d' % (p, c)\r\n",
        "\r\n",
        "\r\n",
        "df_cm = pd.DataFrame(cm, index = matrix_index, columns = matrix_index)\r\n",
        "df_cm.index.name = 'Actual'\r\n",
        "df_cm.columns.name = 'Predicted'\r\n",
        "fig, ax = plt.subplots(figsize=(10,7))\r\n",
        "sn.heatmap(df_cm, annot=annot, fmt='')"
      ],
      "execution_count": null,
      "outputs": [
        {
          "output_type": "execute_result",
          "data": {
            "text/plain": [
              "<matplotlib.axes._subplots.AxesSubplot at 0x7fd946492ad0>"
            ]
          },
          "metadata": {
            "tags": []
          },
          "execution_count": 25
        },
        {
          "output_type": "display_data",
          "data": {
            "image/png": "[encoded data removed]",
            "text/plain": [
              "<Figure size 720x504 with 2 Axes>"
            ]
          },
          "metadata": {
            "tags": [],
            "needs_background": "light"
          }
        }
      ]
    },
    {
      "cell_type": "code",
      "metadata": {
        "colab": {
          "base_uri": "https://localhost:8080/"
        },
        "id": "X-uJYiBbX3pW",
        "outputId": "2f775cd5-bd23-464f-b38f-8e05beca03fd"
      },
      "source": [
        "import h5py\r\n",
        "\r\n",
        "hf = h5py.File('data.h5', 'w')\r\n",
        "\r\n",
        "hf.create_dataset('dataset_1', data=x_test)\r\n",
        "hf.create_dataset('dataset_2', data=y_test)"
      ],
      "execution_count": null,
      "outputs": [
        {
          "output_type": "execute_result",
          "data": {
            "text/plain": [
              "<HDF5 dataset \"dataset_2\": shape (184, 6), type \"<f4\">"
            ]
          },
          "metadata": {
            "tags": []
          },
          "execution_count": 26
        }
      ]
    }
  ]
}